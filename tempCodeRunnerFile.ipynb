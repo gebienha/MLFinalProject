# cap = cv2.VideoCapture(0)
# while 1:
#     ret, img = cap.read()
#     image = cv2.imread('full_path_to_image/amer_sign2.png')
#     if image is None:
#         print("Error loading image")
#     else:
#         cv2.imshow("image", image)
#     img = cv2.flip(img, 1)
#     top, right, bottom, left = 75, 350, 300, 590
#     roi = img[top:bottom, right:left]
#     roi=cv2.flip(roi,1)
#     gray = cv2.cvtColor(roi, cv2.COLOR_BGR2GRAY)
#     gray = cv2.GaussianBlur(gray, (7, 7), 0)
#     cv2.imshow('roi',gray)
#     alpha=classify(gray)
#     cv2.rectangle(img, (left, top), (right, bottom), (0,255,0), 2)
#     font=cv2.FONT_HERSHEY_SIMPLEX
#     cv2.putText(img,alpha,(0,130),font,5,(0,0,255),2)
#     #cv2.resize(img,(1000,1000))
#     cv2.imshow('img',img)
#     key = cv2.waitKey(1) & 0xFF
#     if key==ord('q'):
#         break;
# cap.release()
# cv2.destroyAllWindows()

cap = cv2.VideoCapture(0)
while True:
    ret, img = cap.read()
    if not ret:
        print("Failed to grab frame")
        break  # Exit the loop if frame capture fails

    img = cv2.flip(img, 1)
    top, right, bottom, left = 75, 350, 300, 590
    roi = img[top:bottom, right:left]  # This should now work as 'img' is not None
    roi = cv2.flip(roi, 1)
    gray = cv2.cvtColor(roi, cv2.COLOR_BGR2GRAY)
    gray = cv2.GaussianBlur(gray, (7, 7), 0)
    cv2.imshow('roi', gray)
    alpha = classify(gray)
    cv2.rectangle(img, (left, top), (right, bottom), (0, 255, 0), 2)
    font = cv2.FONT_HERSHEY_SIMPLEX
    cv2.putText(img, alpha, (0, 130), font, 5, (0, 0, 255), 2)
    cv2.imshow('img', img)

    key = cv2.waitKey(1) & 0xFF
    if key == ord('q'):
        break

cap.release()
cv2.destroyAllWindows()
